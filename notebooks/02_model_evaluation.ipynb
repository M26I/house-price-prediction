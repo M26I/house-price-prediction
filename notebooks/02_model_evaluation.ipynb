{
 "cells": [
  {
   "cell_type": "code",
   "execution_count": 7,
   "id": "9f622e2d-207c-4f27-87fb-ed397701a7d3",
   "metadata": {},
   "outputs": [
    {
     "name": "stdout",
     "output_type": "stream",
     "text": [
      "Model loaded\n",
      "Data loaded and preprocessed! Shape: (424, 15)\n",
      "Model Evaluation:\n",
      "MAE: 162685.57\n",
      "RMSE: 228625.48\n",
      "R²: 0.98\n"
     ]
    }
   ],
   "source": [
    "import joblib\n",
    "import os\n",
    "import pandas as pd\n",
    "import numpy as np\n",
    "from sklearn.preprocessing import StandardScaler\n",
    "from sklearn.metrics import mean_absolute_error, mean_squared_error, r2_score\n",
    "from sklearn.model_selection import train_test_split\n",
    "\n",
    "# Load model\n",
    "model_path = os.path.join(\"..\", \"reports\", \"xgboost_model.pkl\")\n",
    "model = joblib.load(model_path)\n",
    "print(\"Model loaded\")\n",
    "\n",
    "# Load and preprocess data\n",
    "data_path = os.path.join(\"..\", \"data\", \"Housing.csv\")\n",
    "df = pd.read_csv(data_path)\n",
    "df = pd.get_dummies(df, drop_first=True)\n",
    "\n",
    "# Handle outliers\n",
    "Q1 = df[\"price\"].quantile(0.25)\n",
    "Q3 = df[\"price\"].quantile(0.75)\n",
    "IQR = Q3 - Q1\n",
    "lower_bound = Q1 - 1.5 * IQR\n",
    "upper_bound = Q3 + 1.5 * IQR\n",
    "df = df[(df[\"price\"] >= lower_bound) & (df[\"price\"] <= upper_bound)]\n",
    "\n",
    "# Feature Engineering\n",
    "df[\"price_per_sqft\"] = df[\"price\"] / (df[\"area\"] + 1)\n",
    "df[\"rooms_per_sqft\"] = df[\"bedrooms\"] / (df[\"area\"] + 1)\n",
    "\n",
    "# Define Features and Target\n",
    "X = df.drop(columns=[\"price\"])\n",
    "y = np.log1p(df[\"price\"])\n",
    "\n",
    "# Split data into train and test sets\n",
    "X_train, X_test, y_train, y_test = train_test_split(X, y, test_size=0.2, random_state=42)\n",
    "\n",
    "# Standardize Numerical Features (using the same scaler as before)\n",
    "scaler = StandardScaler()\n",
    "X_train_scaled = scaler.fit_transform(X_train)\n",
    "X_test_scaled = scaler.transform(X_test)\n",
    "\n",
    "print(f\"Data loaded and preprocessed! Shape: {X_train.shape}\")\n",
    "\n",
    "# Make predictions\n",
    "y_pred = model.predict(X_test_scaled)\n",
    "y_pred_actual = np.expm1(y_pred)  # Convert back from log scale\n",
    "y_test_actual = np.expm1(y_test)  # Convert back from log scale\n",
    "\n",
    "# Evaluate the model\n",
    "mae = mean_absolute_error(y_test_actual, y_pred_actual)\n",
    "rmse = np.sqrt(mean_squared_error(y_test_actual, y_pred_actual))\n",
    "r2 = r2_score(y_test_actual, y_pred_actual)\n",
    "\n",
    "print(f\"Model Evaluation:\\nMAE: {mae:.2f}\\nRMSE: {rmse:.2f}\\nR²: {r2:.2f}\")\n"
   ]
  },
  {
   "cell_type": "code",
   "execution_count": null,
   "id": "2f2a5d1f-b9ba-43b2-964c-046728b549d9",
   "metadata": {},
   "outputs": [],
   "source": []
  }
 ],
 "metadata": {
  "kernelspec": {
   "display_name": "Python 3 (ipykernel)",
   "language": "python",
   "name": "python3"
  },
  "language_info": {
   "codemirror_mode": {
    "name": "ipython",
    "version": 3
   },
   "file_extension": ".py",
   "mimetype": "text/x-python",
   "name": "python",
   "nbconvert_exporter": "python",
   "pygments_lexer": "ipython3",
   "version": "3.13.0"
  }
 },
 "nbformat": 4,
 "nbformat_minor": 5
}
